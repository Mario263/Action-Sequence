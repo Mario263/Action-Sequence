{
 "cells": [
  {
   "cell_type": "code",
   "execution_count": null,
   "id": "32e335b8-9892-49c6-b1e0-0a2a669d2f62",
   "metadata": {},
   "outputs": [],
   "source": [
    "!apt-get update\n",
    "!apt-get -y install ffmpeg\n",
    "!pip install ffmpeg-python pillow\n",
    "!pip install einops\n",
    "!pip install opencv-python"
   ]
  },
  {
   "cell_type": "code",
   "execution_count": null,
   "id": "499314b1-0b7e-4146-9900-3d7e1a0c5649",
   "metadata": {},
   "outputs": [],
   "source": [
    "pip install ffmpeg-python pillow einops opencv-python"
   ]
  },
  {
   "cell_type": "code",
   "execution_count": null,
   "id": "ebe7e3a1-88e5-42ac-8b16-b9d1d60f7e7d",
   "metadata": {},
   "outputs": [],
   "source": [
    "pip install --cask xquartz\n"
   ]
  },
  {
   "cell_type": "code",
   "execution_count": null,
   "id": "335e18a9-45b8-4715-8055-5aa09d311de2",
   "metadata": {},
   "outputs": [],
   "source": [
    "import ffmpeg\n",
    "import cv2\n",
    "from PIL import Image\n",
    "import einops\n",
    "\n",
    "print(\"FFmpeg, OpenCV, Pillow, and Einops are installed correctly!\")"
   ]
  },
  {
   "cell_type": "code",
   "execution_count": null,
   "id": "7e46152b-a514-4138-ad3f-75455c592803",
   "metadata": {},
   "outputs": [],
   "source": [
    "import os\n",
    "import ffmpeg\n",
    "import cv2\n",
    "from PIL import Image\n",
    "import einops\n",
    "\n",
    "def video_to_pil_frames(video_path, output_dir):\n",
    "    print(f\"Fetching Frames: {video_path}\")\n",
    "    video = cv2.VideoCapture(video_path)\n",
    "    os.makedirs(output_dir,exist_ok = True)\n",
    "    \n",
    "    total_frames = int(video.get(cv2.CAP_PROP_FRAME_COUNT))\n",
    "    print(f\"Total Frames: {total_frames}\")\n",
    "\n",
    "    for i in range(total_frames):\n",
    "        ret, frame = video.read()\n",
    "        if not ret:\n",
    "            break\n",
    "\n",
    "        frame_rgb = cv2.cvtColor(frame, cv2.COLOR_BGR2RGB)\n",
    "        pil_image = Image.fromarray(frame_rgb)\n",
    "        \n",
    "        pil_image.save(f\"{output_dir}/frame_{i}.png\")\n",
    "        # print(f\"saved frame_{i}.png\")\n",
    "        # Yield one frame at a time\n",
    "\n",
    "\n",
    "    video.release()\n",
    "    \n",
    "    print(f\"save frames to {output_dir}\")\n",
    "    \n",
    "video_path =  '/Users/mario/Downloads/Star Wars (1977).mp4'\n",
    "output_dir = '/Users/mario/Desktop/ece910/output'\n",
    "\n",
    "video_to_pil_frames(video_path, output_dir)"
   ]
  },
  {
   "cell_type": "code",
   "execution_count": null,
   "id": "87185e50-ff9c-4565-ae06-b9656b1bc33c",
   "metadata": {},
   "outputs": [],
   "source": []
  }
 ],
 "metadata": {
  "kernelspec": {
   "display_name": "Python 3 (ipykernel)",
   "language": "python",
   "name": "python3"
  },
  "language_info": {
   "codemirror_mode": {
    "name": "ipython",
    "version": 3
   },
   "file_extension": ".py",
   "mimetype": "text/x-python",
   "name": "python",
   "nbconvert_exporter": "python",
   "pygments_lexer": "ipython3",
   "version": "3.8.12"
  }
 },
 "nbformat": 4,
 "nbformat_minor": 5
}
