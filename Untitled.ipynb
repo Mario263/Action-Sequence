{
 "cells": [
  {
   "cell_type": "code",
   "execution_count": null,
   "id": "32e335b8-9892-49c6-b1e0-0a2a669d2f62",
   "metadata": {},
   "outputs": [],
   "source": [
    "!apt-get update\n",
    "!apt-get -y install ffmpeg\n",
    "!pip install ffmpeg-python pillow\n",
    "!pip install einops\n",
    "!pip install opencv-python"
   ]
  },
  {
   "cell_type": "code",
   "execution_count": null,
   "id": "499314b1-0b7e-4146-9900-3d7e1a0c5649",
   "metadata": {},
   "outputs": [],
   "source": [
    "pip install ffmpeg-python pillow einops opencv-python"
   ]
  },
  {
   "cell_type": "code",
   "execution_count": null,
   "id": "ebe7e3a1-88e5-42ac-8b16-b9d1d60f7e7d",
   "metadata": {},
   "outputs": [],
   "source": [
    "pip install --cask xquartz\n"
   ]
  },
  {
   "cell_type": "code",
   "execution_count": 1,
   "id": "335e18a9-45b8-4715-8055-5aa09d311de2",
   "metadata": {},
   "outputs": [
    {
     "name": "stdout",
     "output_type": "stream",
     "text": [
      "FFmpeg, OpenCV, Pillow, and Einops are installed correctly!\n"
     ]
    }
   ],
   "source": [
    "import ffmpeg\n",
    "import cv2\n",
    "from PIL import Image\n",
    "import einops\n",
    "\n",
    "print(\"FFmpeg, OpenCV, Pillow, and Einops are installed correctly!\")"
   ]
  },
  {
   "cell_type": "code",
   "execution_count": 3,
   "id": "7e46152b-a514-4138-ad3f-75455c592803",
   "metadata": {},
   "outputs": [
    {
     "name": "stdout",
     "output_type": "stream",
     "text": [
      "Fetching Frames from: /Users/mario/Downloads/Star Wars (1977).mp4\n",
      "Total Frames: 179454\n",
      "Saved and compressed frames to /Users/mario/Desktop/ece910/output\n"
     ]
    }
   ],
   "source": [
    "import os\n",
    "import cv2\n",
    "from PIL import Image\n",
    "\n",
    "# Function to extract and compress video frames\n",
    "def video_to_pil_frames(video_path, output_dir, resize_dim=(224, 224), image_quality=85):\n",
    "    print(f\"Fetching Frames from: {video_path}\")\n",
    "    \n",
    "    # Create output directory if it doesn't exist\n",
    "    os.makedirs(output_dir, exist_ok=True)\n",
    "    \n",
    "    # Load video\n",
    "    video = cv2.VideoCapture(video_path)\n",
    "    total_frames = int(video.get(cv2.CAP_PROP_FRAME_COUNT))\n",
    "    print(f\"Total Frames: {total_frames}\")\n",
    "\n",
    "    for i in range(total_frames):\n",
    "        ret, frame = video.read()\n",
    "        if not ret:\n",
    "            break\n",
    "\n",
    "        # Convert BGR to RGB\n",
    "        frame_rgb = cv2.cvtColor(frame, cv2.COLOR_BGR2RGB)\n",
    "        \n",
    "        # Convert to PIL Image\n",
    "        pil_image = Image.fromarray(frame_rgb)\n",
    "        \n",
    "        # Resize image to reduce storage\n",
    "        pil_image = pil_image.resize(resize_dim, Image.Resampling.LANCZOS)\n",
    "        \n",
    "        # Save the compressed image in JPEG format with specified quality\n",
    "        pil_image.save(f\"{output_dir}/frame_{i}.jpg\", format='JPEG', quality=image_quality)\n",
    "\n",
    "    # Release video resource\n",
    "    video.release()\n",
    "    print(f\"Saved and compressed frames to {output_dir}\")\n",
    "\n",
    "# Define paths\n",
    "video_path = '/Users/mario/Downloads/Star Wars (1977).mp4'\n",
    "output_dir = '/Users/mario/Desktop/ece910/output'\n",
    "\n",
    "# Extract and compress frames\n",
    "video_to_pil_frames(video_path, output_dir)\n"
   ]
  },
  {
   "cell_type": "code",
   "execution_count": null,
   "id": "87185e50-ff9c-4565-ae06-b9656b1bc33c",
   "metadata": {},
   "outputs": [],
   "source": []
  }
 ],
 "metadata": {
  "kernelspec": {
   "display_name": "Python 3",
   "language": "python",
   "name": "python3"
  },
  "language_info": {
   "codemirror_mode": {
    "name": "ipython",
    "version": 3
   },
   "file_extension": ".py",
   "mimetype": "text/x-python",
   "name": "python",
   "nbconvert_exporter": "python",
   "pygments_lexer": "ipython3",
   "version": "3.11.11"
  }
 },
 "nbformat": 4,
 "nbformat_minor": 5
}
